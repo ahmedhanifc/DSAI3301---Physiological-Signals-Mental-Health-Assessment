{
 "cells": [
  {
   "cell_type": "code",
   "execution_count": 1,
   "id": "51b70f8c",
   "metadata": {},
   "outputs": [],
   "source": [
    "import pandas as pd\n",
    "from functools import reduce\n",
    "participant_id = \"p07\"\n"
   ]
  },
  {
   "cell_type": "code",
   "execution_count": 2,
   "id": "4cec2a22",
   "metadata": {},
   "outputs": [],
   "source": [
    "from src.physiological_data_preprocessing import (\n",
    "        process_intraday_heart_rate,\n",
    "        process_resting_heart_rate,\n",
    "        get_daily_aggregate,\n",
    "        preprocess_exercise_data,\n",
    "        load_sleep_score,\n",
    "        load_resting_heart_rate\n",
    ")   \n",
    "\n",
    "from src.subjective_data_preprocessing import (\n",
    "    preprocess_wellness_csv\n",
    "\n",
    "        \n",
    ")\n",
    "\n"
   ]
  },
  {
   "cell_type": "code",
   "execution_count": 20,
   "id": "e58b56ed",
   "metadata": {},
   "outputs": [],
   "source": [
    "def create_merged_dfs(participant_id):\n",
    "    sleep_score_df = load_sleep_score(participant_id=participant_id)\n",
    "    wellness_df = preprocess_wellness_csv(participant_id)\n",
    "    resting_heart_rate_df = load_resting_heart_rate(participant_id)\n",
    "    very_active_minutes_df = get_daily_aggregate(participant_id,\"very_active_minutes\",\"sum\")\n",
    "    sedentary_minutes_df = get_daily_aggregate(participant_id,\"sedentary_minutes\",\"sum\")\n",
    "\n",
    "    dataframes_to_merge = [\n",
    "    resting_heart_rate_df,\n",
    "    sleep_score_df,\n",
    "    wellness_df,\n",
    "    very_active_minutes_df,\n",
    "    sedentary_minutes_df\n",
    "    ]\n",
    "\n",
    "    df_merged = reduce(lambda left, right: pd.merge(left, right, on='dateTime', how='outer'), dataframes_to_merge)\n",
    "    df_merged = df_merged.sort_values(by='dateTime').reset_index(drop=True)\n",
    "    df_merged[\"participant_id\"] = participant_id\n",
    "\n",
    "    return df_merged\n"
   ]
  },
  {
   "cell_type": "code",
   "execution_count": 23,
   "id": "781716ab",
   "metadata": {},
   "outputs": [],
   "source": [
    "def forward_fill_missing_values(df):\n",
    "    df = df.copy()\n",
    "    for column in df.columns:\n",
    "        df[column] = df[column].ffill().bfill()\n",
    "\n",
    "    return df\n"
   ]
  },
  {
   "cell_type": "code",
   "execution_count": 35,
   "id": "f0ebf852",
   "metadata": {},
   "outputs": [],
   "source": [
    "df = create_merged_dfs(\"p07\")"
   ]
  },
  {
   "cell_type": "code",
   "execution_count": 36,
   "id": "e8f138dc",
   "metadata": {},
   "outputs": [],
   "source": [
    "df = forward_fill_missing_values(df)"
   ]
  },
  {
   "cell_type": "code",
   "execution_count": 37,
   "id": "d4fa8dcf",
   "metadata": {},
   "outputs": [],
   "source": [
    "df = df[[\"participant_id\"] + df.iloc[:,:-1].columns.tolist()]"
   ]
  },
  {
   "cell_type": "code",
   "execution_count": 38,
   "id": "8db009b4",
   "metadata": {},
   "outputs": [],
   "source": [
    "df.to_csv(\"./cleaned_data/14thJune2025_p07.csv\", index=False)"
   ]
  },
  {
   "cell_type": "code",
   "execution_count": null,
   "id": "51c5603c",
   "metadata": {},
   "outputs": [],
   "source": []
  },
  {
   "cell_type": "code",
   "execution_count": null,
   "id": "26a3d5ff",
   "metadata": {},
   "outputs": [],
   "source": []
  },
  {
   "cell_type": "code",
   "execution_count": null,
   "id": "727ac011",
   "metadata": {},
   "outputs": [],
   "source": []
  },
  {
   "cell_type": "code",
   "execution_count": null,
   "id": "b4ed4a18",
   "metadata": {},
   "outputs": [],
   "source": []
  },
  {
   "cell_type": "code",
   "execution_count": null,
   "id": "cb3b5724",
   "metadata": {},
   "outputs": [],
   "source": []
  },
  {
   "cell_type": "code",
   "execution_count": null,
   "id": "21a71497",
   "metadata": {},
   "outputs": [],
   "source": []
  }
 ],
 "metadata": {
  "kernelspec": {
   "display_name": "ds1",
   "language": "python",
   "name": "python3"
  },
  "language_info": {
   "codemirror_mode": {
    "name": "ipython",
    "version": 3
   },
   "file_extension": ".py",
   "mimetype": "text/x-python",
   "name": "python",
   "nbconvert_exporter": "python",
   "pygments_lexer": "ipython3",
   "version": "3.11.13"
  }
 },
 "nbformat": 4,
 "nbformat_minor": 5
}
